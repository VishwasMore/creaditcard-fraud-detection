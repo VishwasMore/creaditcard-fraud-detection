{
  "nbformat": 4,
  "nbformat_minor": 0,
  "metadata": {
    "colab": {
      "name": "creditcard-fraud-detection.ipynb",
      "provenance": [],
      "toc_visible": true,
      "mount_file_id": "1DOt0k4_IBuvGwiam8CvIdT0Dg6eTTnih",
      "authorship_tag": "ABX9TyOH1DGDEphvfsQIYFNfH/8p",
      "include_colab_link": true
    },
    "kernelspec": {
      "name": "python3",
      "display_name": "Python 3"
    }
  },
  "cells": [
    {
      "cell_type": "markdown",
      "metadata": {
        "id": "view-in-github",
        "colab_type": "text"
      },
      "source": [
        "<a href=\"https://colab.research.google.com/github/VishwasMore/creaditcard-fraud-detection/blob/master/creditcard_fraud_detection.ipynb\" target=\"_parent\"><img src=\"https://colab.research.google.com/assets/colab-badge.svg\" alt=\"Open In Colab\"/></a>"
      ]
    },
    {
      "cell_type": "code",
      "metadata": {
        "id": "dcW0iycNacEj",
        "colab_type": "code",
        "colab": {}
      },
      "source": [
        "!unzip \"drive/My Drive/creditcard-fraud-detection/P39-Credit-Card-Fraud.zip\" -d \"/content/drive/My Drive/creditcard-fraud-detection\""
      ],
      "execution_count": 0,
      "outputs": []
    },
    {
      "cell_type": "code",
      "metadata": {
        "id": "kBYY_Lphgol1",
        "colab_type": "code",
        "colab": {}
      },
      "source": [
        "import pandas as pd"
      ],
      "execution_count": 0,
      "outputs": []
    }
  ]
}